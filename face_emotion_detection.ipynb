{
 "cells": [
  {
   "cell_type": "markdown",
   "id": "4c9141ac-3f3f-4eb1-a3c8-0da9a553d4dd",
   "metadata": {},
   "source": [
    "### Installation of packages"
   ]
  },
  {
   "cell_type": "code",
   "execution_count": 1,
   "id": "7aefadd0-b584-4189-b810-fae921f784fd",
   "metadata": {},
   "outputs": [
    {
     "name": "stdout",
     "output_type": "stream",
     "text": [
      "Requirement already satisfied: tensorflow in /home/studio-lab-user/.conda/envs/default/lib/python3.9/site-packages (2.8.0)\n",
      "Requirement already satisfied: tf-estimator-nightly==2.8.0.dev2021122109 in /home/studio-lab-user/.conda/envs/default/lib/python3.9/site-packages (from tensorflow) (2.8.0.dev2021122109)\n",
      "Requirement already satisfied: tensorflow-io-gcs-filesystem>=0.23.1 in /home/studio-lab-user/.conda/envs/default/lib/python3.9/site-packages (from tensorflow) (0.24.0)\n",
      "Requirement already satisfied: flatbuffers>=1.12 in /home/studio-lab-user/.conda/envs/default/lib/python3.9/site-packages (from tensorflow) (2.0)\n",
      "Requirement already satisfied: absl-py>=0.4.0 in /home/studio-lab-user/.conda/envs/default/lib/python3.9/site-packages (from tensorflow) (1.0.0)\n",
      "Requirement already satisfied: six>=1.12.0 in /home/studio-lab-user/.conda/envs/default/lib/python3.9/site-packages (from tensorflow) (1.16.0)\n",
      "Requirement already satisfied: gast>=0.2.1 in /home/studio-lab-user/.conda/envs/default/lib/python3.9/site-packages (from tensorflow) (0.5.3)\n",
      "Requirement already satisfied: h5py>=2.9.0 in /home/studio-lab-user/.conda/envs/default/lib/python3.9/site-packages (from tensorflow) (3.6.0)\n",
      "Requirement already satisfied: keras<2.9,>=2.8.0rc0 in /home/studio-lab-user/.conda/envs/default/lib/python3.9/site-packages (from tensorflow) (2.8.0)\n",
      "Requirement already satisfied: wrapt>=1.11.0 in /home/studio-lab-user/.conda/envs/default/lib/python3.9/site-packages (from tensorflow) (1.14.0)\n",
      "Requirement already satisfied: setuptools in /home/studio-lab-user/.conda/envs/default/lib/python3.9/site-packages (from tensorflow) (58.4.0)\n",
      "Requirement already satisfied: numpy>=1.20 in /home/studio-lab-user/.conda/envs/default/lib/python3.9/site-packages (from tensorflow) (1.22.3)\n",
      "Requirement already satisfied: keras-preprocessing>=1.1.1 in /home/studio-lab-user/.conda/envs/default/lib/python3.9/site-packages (from tensorflow) (1.1.2)\n",
      "Requirement already satisfied: tensorboard<2.9,>=2.8 in /home/studio-lab-user/.conda/envs/default/lib/python3.9/site-packages (from tensorflow) (2.8.0)\n",
      "Requirement already satisfied: libclang>=9.0.1 in /home/studio-lab-user/.conda/envs/default/lib/python3.9/site-packages (from tensorflow) (13.0.0)\n",
      "Requirement already satisfied: protobuf>=3.9.2 in /home/studio-lab-user/.conda/envs/default/lib/python3.9/site-packages (from tensorflow) (3.19.4)\n",
      "Requirement already satisfied: google-pasta>=0.1.1 in /home/studio-lab-user/.conda/envs/default/lib/python3.9/site-packages (from tensorflow) (0.2.0)\n",
      "Requirement already satisfied: grpcio<2.0,>=1.24.3 in /home/studio-lab-user/.conda/envs/default/lib/python3.9/site-packages (from tensorflow) (1.45.0)\n",
      "Requirement already satisfied: opt-einsum>=2.3.2 in /home/studio-lab-user/.conda/envs/default/lib/python3.9/site-packages (from tensorflow) (3.3.0)\n",
      "Requirement already satisfied: typing-extensions>=3.6.6 in /home/studio-lab-user/.conda/envs/default/lib/python3.9/site-packages (from tensorflow) (4.1.1)\n",
      "Requirement already satisfied: termcolor>=1.1.0 in /home/studio-lab-user/.conda/envs/default/lib/python3.9/site-packages (from tensorflow) (1.1.0)\n",
      "Requirement already satisfied: astunparse>=1.6.0 in /home/studio-lab-user/.conda/envs/default/lib/python3.9/site-packages (from tensorflow) (1.6.3)\n",
      "Requirement already satisfied: wheel<1.0,>=0.23.0 in /home/studio-lab-user/.conda/envs/default/lib/python3.9/site-packages (from astunparse>=1.6.0->tensorflow) (0.37.0)\n",
      "Requirement already satisfied: google-auth-oauthlib<0.5,>=0.4.1 in /home/studio-lab-user/.conda/envs/default/lib/python3.9/site-packages (from tensorboard<2.9,>=2.8->tensorflow) (0.4.6)\n",
      "Requirement already satisfied: tensorboard-plugin-wit>=1.6.0 in /home/studio-lab-user/.conda/envs/default/lib/python3.9/site-packages (from tensorboard<2.9,>=2.8->tensorflow) (1.8.1)\n",
      "Requirement already satisfied: markdown>=2.6.8 in /home/studio-lab-user/.conda/envs/default/lib/python3.9/site-packages (from tensorboard<2.9,>=2.8->tensorflow) (3.3.6)\n",
      "Requirement already satisfied: google-auth<3,>=1.6.3 in /home/studio-lab-user/.conda/envs/default/lib/python3.9/site-packages (from tensorboard<2.9,>=2.8->tensorflow) (2.6.2)\n",
      "Requirement already satisfied: requests<3,>=2.21.0 in /home/studio-lab-user/.conda/envs/default/lib/python3.9/site-packages (from tensorboard<2.9,>=2.8->tensorflow) (2.27.1)\n",
      "Requirement already satisfied: werkzeug>=0.11.15 in /home/studio-lab-user/.conda/envs/default/lib/python3.9/site-packages (from tensorboard<2.9,>=2.8->tensorflow) (2.1.1)\n",
      "Requirement already satisfied: tensorboard-data-server<0.7.0,>=0.6.0 in /home/studio-lab-user/.conda/envs/default/lib/python3.9/site-packages (from tensorboard<2.9,>=2.8->tensorflow) (0.6.1)\n",
      "Requirement already satisfied: pyasn1-modules>=0.2.1 in /home/studio-lab-user/.conda/envs/default/lib/python3.9/site-packages (from google-auth<3,>=1.6.3->tensorboard<2.9,>=2.8->tensorflow) (0.2.8)\n",
      "Requirement already satisfied: cachetools<6.0,>=2.0.0 in /home/studio-lab-user/.conda/envs/default/lib/python3.9/site-packages (from google-auth<3,>=1.6.3->tensorboard<2.9,>=2.8->tensorflow) (5.0.0)\n",
      "Requirement already satisfied: rsa<5,>=3.1.4 in /home/studio-lab-user/.conda/envs/default/lib/python3.9/site-packages (from google-auth<3,>=1.6.3->tensorboard<2.9,>=2.8->tensorflow) (4.8)\n",
      "Requirement already satisfied: requests-oauthlib>=0.7.0 in /home/studio-lab-user/.conda/envs/default/lib/python3.9/site-packages (from google-auth-oauthlib<0.5,>=0.4.1->tensorboard<2.9,>=2.8->tensorflow) (1.3.1)\n",
      "Requirement already satisfied: importlib-metadata>=4.4 in /home/studio-lab-user/.conda/envs/default/lib/python3.9/site-packages (from markdown>=2.6.8->tensorboard<2.9,>=2.8->tensorflow) (4.8.2)\n",
      "Requirement already satisfied: urllib3<1.27,>=1.21.1 in /home/studio-lab-user/.conda/envs/default/lib/python3.9/site-packages (from requests<3,>=2.21.0->tensorboard<2.9,>=2.8->tensorflow) (1.26.8)\n",
      "Requirement already satisfied: certifi>=2017.4.17 in /home/studio-lab-user/.conda/envs/default/lib/python3.9/site-packages (from requests<3,>=2.21.0->tensorboard<2.9,>=2.8->tensorflow) (2021.10.8)\n",
      "Requirement already satisfied: idna<4,>=2.5 in /home/studio-lab-user/.conda/envs/default/lib/python3.9/site-packages (from requests<3,>=2.21.0->tensorboard<2.9,>=2.8->tensorflow) (3.3)\n",
      "Requirement already satisfied: charset-normalizer~=2.0.0 in /home/studio-lab-user/.conda/envs/default/lib/python3.9/site-packages (from requests<3,>=2.21.0->tensorboard<2.9,>=2.8->tensorflow) (2.0.12)\n",
      "Requirement already satisfied: zipp>=0.5 in /home/studio-lab-user/.conda/envs/default/lib/python3.9/site-packages (from importlib-metadata>=4.4->markdown>=2.6.8->tensorboard<2.9,>=2.8->tensorflow) (3.6.0)\n",
      "Requirement already satisfied: pyasn1<0.5.0,>=0.4.6 in /home/studio-lab-user/.conda/envs/default/lib/python3.9/site-packages (from pyasn1-modules>=0.2.1->google-auth<3,>=1.6.3->tensorboard<2.9,>=2.8->tensorflow) (0.4.8)\n",
      "Requirement already satisfied: oauthlib>=3.0.0 in /home/studio-lab-user/.conda/envs/default/lib/python3.9/site-packages (from requests-oauthlib>=0.7.0->google-auth-oauthlib<0.5,>=0.4.1->tensorboard<2.9,>=2.8->tensorflow) (3.2.0)\n",
      "\u001b[33mWARNING: You are using pip version 21.3.1; however, version 22.0.4 is available.\n",
      "You should consider upgrading via the '/home/studio-lab-user/.conda/envs/default/bin/python -m pip install --upgrade pip' command.\u001b[0m\n",
      "Note: you may need to restart the kernel to use updated packages.\n"
     ]
    }
   ],
   "source": [
    "pip install tensorflow"
   ]
  },
  {
   "cell_type": "markdown",
   "id": "21566a42-29f5-4923-860f-567dd7e59464",
   "metadata": {},
   "source": [
    "### Unzip the compressed folder consists of the train and test data of 7 classes"
   ]
  },
  {
   "cell_type": "code",
   "execution_count": null,
   "id": "353ceb63-ea99-487a-b4b4-4fcfbb85e91e",
   "metadata": {},
   "outputs": [],
   "source": [
    "!unzip face_emotion.zip"
   ]
  },
  {
   "cell_type": "markdown",
   "id": "fa20ad05-f701-40e7-8dae-ab8017a99948",
   "metadata": {},
   "source": [
    "### Importing Required Packages"
   ]
  },
  {
   "cell_type": "code",
   "execution_count": 1,
   "id": "925be612-11cd-49cb-a6ee-7cd024becf28",
   "metadata": {},
   "outputs": [],
   "source": [
    "import matplotlib.pyplot as plt\n",
    "import numpy as np\n",
    "import pandas as pd\n",
    "import seaborn as sns\n",
    "import os\n",
    "from PIL import Image\n",
    "import glob\n",
    "\n",
    "# Importing Deep Learning Libraries\n",
    "\n",
    "from tensorflow.keras.preprocessing.image import load_img, img_to_array\n",
    "from tensorflow.keras.preprocessing.image import ImageDataGenerator\n",
    "from tensorflow.keras.layers import Dense,Input,Dropout,Flatten,Conv2D,BatchNormalization,Activation,MaxPooling2D\n",
    "from tensorflow.keras.models import Model,Sequential\n",
    "from tensorflow.keras.optimizers import Adam"
   ]
  },
  {
   "cell_type": "markdown",
   "id": "e5845cde-458c-4abd-a862-6bf4560708dd",
   "metadata": {},
   "source": [
    "### Data Preparatiom"
   ]
  },
  {
   "cell_type": "code",
   "execution_count": 2,
   "id": "bf85afe3-10a1-46a0-910d-1c343cef3e2b",
   "metadata": {},
   "outputs": [],
   "source": [
    "### Path of the directory is assigned to `face_dir`. Each image should be of size 48 * 48 "
   ]
  },
  {
   "cell_type": "code",
   "execution_count": 3,
   "id": "3e3f18ba-b64d-4de3-b191-fff5933d9032",
   "metadata": {},
   "outputs": [],
   "source": [
    "image_size = 48\n",
    "\n",
    "face_dir = \"face_emotion/\""
   ]
  },
  {
   "cell_type": "markdown",
   "id": "3af0df3c-081c-44e3-9d09-92b619f7a527",
   "metadata": {},
   "source": [
    "### Assigning the path of `train` and `test` subfolders to `train_dir` and `test_dir`"
   ]
  },
  {
   "cell_type": "code",
   "execution_count": 4,
   "id": "032f1654-9d05-465e-84f4-358a0996c919",
   "metadata": {},
   "outputs": [],
   "source": [
    "train_dir = os.path.join(face_dir, \"train\")\n",
    "test_dir = os.path.join(face_dir, \"validation\")"
   ]
  },
  {
   "cell_type": "markdown",
   "id": "03c37922-58d3-457b-b5e2-0f5c423d1673",
   "metadata": {},
   "source": [
    "### Number of classes in train and validation datasets"
   ]
  },
  {
   "cell_type": "code",
   "execution_count": 5,
   "id": "b85e0283-1449-424e-b0d3-6d566a85619f",
   "metadata": {},
   "outputs": [
    {
     "name": "stdout",
     "output_type": "stream",
     "text": [
      "No of classes : 7\n",
      "No of Classes : 7\n"
     ]
    }
   ],
   "source": [
    "print(f'No of classes : {len(os.listdir(train_dir))}')\n",
    "print(f'No of Classes : {len(os.listdir(test_dir))}')   "
   ]
  },
  {
   "cell_type": "markdown",
   "id": "16fdd0ef-10ef-409f-9474-8ea962ea1015",
   "metadata": {},
   "source": [
    "### Count of images of each emotion in Training dataset"
   ]
  },
  {
   "cell_type": "code",
   "execution_count": 6,
   "id": "9c376930-7660-43fd-a816-311f522db7c3",
   "metadata": {},
   "outputs": [
    {
     "name": "stdout",
     "output_type": "stream",
     "text": [
      "Image of face_emotion/train/angry : 3994\n",
      "Image of face_emotion/train/disgust : 436\n",
      "Image of face_emotion/train/fear : 4103\n",
      "Image of face_emotion/train/happy : 7164\n",
      "Image of face_emotion/train/neutral : 4982\n",
      "Image of face_emotion/train/sad : 4938\n",
      "Image of face_emotion/train/surprise : 3205\n",
      "28822\n"
     ]
    }
   ],
   "source": [
    "emo_list =[]\n",
    "train_size = 0\n",
    "expressions = glob.glob('face_emotion/train')\n",
    "for expression in expressions:\n",
    "    emo_list.extend([f for f in glob.glob(expression + \"/*\", recursive=True)])\n",
    "for emotion in emo_list:\n",
    "    train_size += int(len(os.listdir(emotion)))\n",
    "    print(f'Image of {emotion} : {len(os.listdir(emotion))}')\n",
    "print(train_size)\n",
    "    "
   ]
  },
  {
   "cell_type": "markdown",
   "id": "b6a162e4-69e8-4fcd-be08-68bb4b4441dd",
   "metadata": {},
   "source": [
    "### Count of images of each emotion in validation dataset\n"
   ]
  },
  {
   "cell_type": "code",
   "execution_count": 7,
   "id": "8e8d8c08-31a5-42a3-9262-3723981a9544",
   "metadata": {},
   "outputs": [
    {
     "name": "stdout",
     "output_type": "stream",
     "text": [
      "Image of face_emotion/validation/angry : 960\n",
      "Image of face_emotion/validation/disgust : 111\n",
      "Image of face_emotion/validation/fear : 1018\n",
      "Image of face_emotion/validation/happy : 1825\n",
      "Image of face_emotion/validation/neutral : 1216\n",
      "Image of face_emotion/validation/sad : 1139\n",
      "Image of face_emotion/validation/surprise : 797\n",
      "7066\n"
     ]
    }
   ],
   "source": [
    "emo_test_list =[]\n",
    "test_size = 0\n",
    "expressions = glob.glob('face_emotion/validation')\n",
    "for expression in expressions:\n",
    "    emo_test_list.extend([f for f in glob.glob(expression + \"/*\", recursive=True)])\n",
    "for emotion in emo_test_list:\n",
    "    test_size += int(len(os.listdir(emotion)))\n",
    "    print(f'Image of {emotion} : {len(os.listdir(emotion))}')\n",
    "print(test_size)"
   ]
  },
  {
   "cell_type": "code",
   "execution_count": null,
   "id": "6b39a7c4-ee68-4cae-b52c-67ab21497070",
   "metadata": {},
   "outputs": [],
   "source": []
  },
  {
   "cell_type": "code",
   "execution_count": null,
   "id": "86f0dece-f723-4165-82c9-59654783b2f6",
   "metadata": {},
   "outputs": [],
   "source": []
  }
 ],
 "metadata": {
  "kernelspec": {
   "display_name": "default:Python",
   "language": "python",
   "name": "conda-env-default-py"
  },
  "language_info": {
   "codemirror_mode": {
    "name": "ipython",
    "version": 3
   },
   "file_extension": ".py",
   "mimetype": "text/x-python",
   "name": "python",
   "nbconvert_exporter": "python",
   "pygments_lexer": "ipython3",
   "version": "3.9.7"
  }
 },
 "nbformat": 4,
 "nbformat_minor": 5
}
